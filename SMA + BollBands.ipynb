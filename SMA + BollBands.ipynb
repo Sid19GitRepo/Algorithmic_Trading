{
 "cells": [
  {
   "cell_type": "code",
   "execution_count": null,
   "id": "276c4989",
   "metadata": {},
   "outputs": [],
   "source": [
    "import pandas as pd\n",
    "import numpy as np\n",
    "import matplotlib.pyplot as plt\n",
    "plt.style.use(\"seaborn\")\n",
    "from scipy.optimize import minimize"
   ]
  },
  {
   "cell_type": "code",
   "execution_count": null,
   "id": "f8b76e8e",
   "metadata": {},
   "outputs": [],
   "source": [
    "import SMA\n",
    "import BollingerBands"
   ]
  },
  {
   "cell_type": "code",
   "execution_count": null,
   "id": "f6a70805",
   "metadata": {},
   "outputs": [],
   "source": [
    "def optimal_strategy(parameters):\n",
    "    start = \"2011-01-03 00:00:00\"\n",
    "    end = \"2021-5-31 20:00:00\"\n",
    "    symbol = \"USDINR\"\n",
    "    tc = 0.00005\n",
    "    \n",
    "    # SMA\n",
    "    tester1 = SMA.SMABacktester(symbol, int(parameters[0]), int(parameters[1]), start, end, tc)\n",
    "    tester1.test_strategy()\n",
    "    \n",
    "    # Bollinger\n",
    "    tester2 = BollingerBands.BBBacktester(symbol,  int(parameters[2]),  int(parameters[3]), start, end, tc)\n",
    "    tester2.test_strategy()\n",
    "    \n",
    "    # Create comb\n",
    "    comb = tester1.results.loc[:, [\"returns\", \"position\"]].copy()\n",
    "    comb.rename(columns = {\"position\":\"position_SMA\"}, inplace = True)\n",
    "    comb[\"position_MR\"] = tester2.results.position\n",
    "    \n",
    "    comb[\"position_comb\"] = np.sign(comb.position_MR + comb.position_SMA)\n",
    "    \n",
    "    comb[\"hour\"] = comb.index.hour\n",
    "    comb.position_comb = np.where(comb.hour.between(3.30, 11.30), comb.position_comb, 0)\n",
    "    \n",
    "    # Backtest\n",
    "    comb[\"strategy\"] = comb[\"position_comb\"].shift(1) * comb[\"returns\"]\n",
    "    comb.dropna(inplace=True)\n",
    "    comb[\"trades\"] = comb.position_comb.diff().fillna(0).abs()\n",
    "    comb.strategy = comb.strategy - comb.trades * tc\n",
    "    comb[\"creturns\"] = comb[\"returns\"].cumsum().apply(np.exp)\n",
    "    comb[\"cstrategy\"] = comb[\"strategy\"].cumsum().apply(np.exp)\n",
    "    \n",
    "    return -comb[\"cstrategy\"].iloc[-1]\n",
    "\n",
    "# opts = minimize(optimal_strategy, start_par, method = \"Powell\" , bounds = bnds)\n",
    "# 55, 160, 59, 3"
   ]
  },
  {
   "cell_type": "code",
   "execution_count": null,
   "id": "1a09d287",
   "metadata": {},
   "outputs": [],
   "source": [
    "optimal_strategy((46, 81, 9, 3))"
   ]
  },
  {
   "cell_type": "code",
   "execution_count": null,
   "id": "f4851a4b",
   "metadata": {},
   "outputs": [],
   "source": [
    "bnds =  ((30, 60), (70, 100), (5, 50), (1, 5))"
   ]
  },
  {
   "cell_type": "code",
   "execution_count": null,
   "id": "29e9767e",
   "metadata": {},
   "outputs": [],
   "source": [
    "start_par = (46, 81, 9, 3)"
   ]
  },
  {
   "cell_type": "code",
   "execution_count": null,
   "id": "0bab6fb3",
   "metadata": {},
   "outputs": [],
   "source": [
    "opts = minimize(optimal_strategy, start_par, method = \"Powell\" , bounds = bnds)"
   ]
  },
  {
   "cell_type": "code",
   "execution_count": null,
   "id": "f996d3a8",
   "metadata": {},
   "outputs": [],
   "source": [
    "opts"
   ]
  },
  {
   "cell_type": "code",
   "execution_count": null,
   "id": "a3fdf089",
   "metadata": {},
   "outputs": [],
   "source": [
    "optimal_strategy(opts.x)"
   ]
  },
  {
   "cell_type": "code",
   "execution_count": null,
   "id": "c8d739b6",
   "metadata": {},
   "outputs": [],
   "source": []
  }
 ],
 "metadata": {
  "kernelspec": {
   "display_name": "Python 3",
   "language": "python",
   "name": "python3"
  },
  "language_info": {
   "codemirror_mode": {
    "name": "ipython",
    "version": 3
   },
   "file_extension": ".py",
   "mimetype": "text/x-python",
   "name": "python",
   "nbconvert_exporter": "python",
   "pygments_lexer": "ipython3",
   "version": "3.8.10"
  }
 },
 "nbformat": 4,
 "nbformat_minor": 5
}
