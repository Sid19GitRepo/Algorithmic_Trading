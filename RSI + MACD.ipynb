{
 "cells": [
  {
   "cell_type": "code",
   "execution_count": 1,
   "id": "0df11bcf",
   "metadata": {},
   "outputs": [],
   "source": [
    "import pandas as pd\n",
    "import numpy as np\n",
    "import matplotlib.pyplot as plt\n",
    "plt.style.use(\"seaborn\")\n",
    "from scipy.optimize import minimize"
   ]
  },
  {
   "cell_type": "code",
   "execution_count": 2,
   "id": "5a5a0046",
   "metadata": {},
   "outputs": [],
   "source": [
    "import RSI\n",
    "import MACD"
   ]
  },
  {
   "cell_type": "code",
   "execution_count": 4,
   "id": "6ae3ec25",
   "metadata": {},
   "outputs": [],
   "source": [
    "def optimal_strategy(parameters):\n",
    "    \n",
    "    start = \"2004-01-01\"\n",
    "    end = \"2020-06-30\"\n",
    "    symbol = \"EURUSD=X\"\n",
    "    tc = 0.00007\n",
    "    \n",
    "    # SMA\n",
    "    tester1 = RSI.RSIBacktester(symbol, int(parameters[0]), int(parameters[1]), int(parameters[2]), start, end, tc)\n",
    "    tester1.test_strategy()\n",
    "    \n",
    "    # Bollinger\n",
    "    tester2 = MACD.MACDBacktester(symbol,  int(parameters[3]),  int(parameters[4]), int(parameters[5]), start, end, tc)\n",
    "    tester2.test_strategy()\n",
    "    \n",
    "    # Create comb\n",
    "    comb = tester1.results.loc[:, [\"returns\", \"position\"]].copy()\n",
    "    comb.rename(columns = {\"position\":\"position_RSI\"}, inplace = True)\n",
    "    comb[\"position_MACD\"] = tester2.results.position\n",
    "    \n",
    "    comb[\"position_comb\"] = np.sign(comb.position_MACD + comb.position_RSI)\n",
    "    \n",
    "    # Backtest\n",
    "    comb[\"strategy\"] = comb[\"position_comb\"].shift(1) * comb[\"returns\"]\n",
    "    comb.dropna(inplace=True)\n",
    "    comb[\"trades\"] = comb.position_comb.diff().fillna(0).abs()\n",
    "    comb.strategy = comb.strategy - comb.trades * tc\n",
    "    comb[\"creturns\"] = comb[\"returns\"].cumsum().apply(np.exp)\n",
    "    comb[\"cstrategy\"] = comb[\"strategy\"].cumsum().apply(np.exp)\n",
    "    \n",
    "    return -comb[\"cstrategy\"].iloc[-1]\n"
   ]
  },
  {
   "cell_type": "code",
   "execution_count": 5,
   "id": "616d1f82",
   "metadata": {},
   "outputs": [
    {
     "data": {
      "text/plain": [
       "-0.5459285070880692"
      ]
     },
     "execution_count": 5,
     "metadata": {},
     "output_type": "execute_result"
    }
   ],
   "source": [
    "optimal_strategy((14, 70, 30, 12, 26, 9))"
   ]
  },
  {
   "cell_type": "code",
   "execution_count": 6,
   "id": "18e8bfca",
   "metadata": {},
   "outputs": [],
   "source": [
    "bnds = ((10, 20), (60, 80), (20, 40), (5, 20), (20, 50), (5, 20))"
   ]
  },
  {
   "cell_type": "code",
   "execution_count": 7,
   "id": "5ddc0705",
   "metadata": {},
   "outputs": [],
   "source": [
    "start_par = (14, 70, 30, 12, 26, 9)"
   ]
  },
  {
   "cell_type": "code",
   "execution_count": 8,
   "id": "e6dd687f",
   "metadata": {},
   "outputs": [],
   "source": [
    "opts = minimize(optimal_strategy, start_par, method = \"Powell\" , bounds = bnds)"
   ]
  },
  {
   "cell_type": "code",
   "execution_count": 9,
   "id": "de733762",
   "metadata": {},
   "outputs": [
    {
     "data": {
      "text/plain": [
       "   direc: array([[ 1.        ,  0.        ,  0.        ,  0.        ,  0.        ,\n",
       "         0.        ],\n",
       "       [ 0.        ,  1.        ,  0.        ,  0.        ,  0.        ,\n",
       "         0.        ],\n",
       "       [ 0.        ,  0.        ,  1.        ,  0.        ,  0.        ,\n",
       "         0.        ],\n",
       "       [ 0.        ,  0.        ,  0.        ,  0.        ,  0.        ,\n",
       "         1.        ],\n",
       "       [ 0.        ,  0.        ,  0.        ,  0.        ,  1.        ,\n",
       "         0.        ],\n",
       "       [ 0.09675752, -0.39877323, -1.35269101, -1.21411122, -0.67820993,\n",
       "        -1.42468948]])\n",
       "     fun: -1.3368046714133892\n",
       " message: 'Optimization terminated successfully.'\n",
       "    nfev: 566\n",
       "     nit: 4\n",
       "  status: 0\n",
       " success: True\n",
       "       x: array([13.82309847, 72.19222662, 38.1494794 , 17.94404425, 35.4369478 ,\n",
       "       16.40935294])"
      ]
     },
     "execution_count": 9,
     "metadata": {},
     "output_type": "execute_result"
    }
   ],
   "source": [
    "opts"
   ]
  },
  {
   "cell_type": "code",
   "execution_count": 10,
   "id": "0ec8440e",
   "metadata": {},
   "outputs": [
    {
     "data": {
      "text/plain": [
       "-1.3368046714133892"
      ]
     },
     "execution_count": 10,
     "metadata": {},
     "output_type": "execute_result"
    }
   ],
   "source": [
    "optimal_strategy(opts.x)"
   ]
  }
 ],
 "metadata": {
  "kernelspec": {
   "display_name": "Python 3",
   "language": "python",
   "name": "python3"
  },
  "language_info": {
   "codemirror_mode": {
    "name": "ipython",
    "version": 3
   },
   "file_extension": ".py",
   "mimetype": "text/x-python",
   "name": "python",
   "nbconvert_exporter": "python",
   "pygments_lexer": "ipython3",
   "version": "3.8.10"
  }
 },
 "nbformat": 4,
 "nbformat_minor": 5
}
